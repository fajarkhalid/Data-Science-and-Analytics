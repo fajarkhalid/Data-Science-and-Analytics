{
  "nbformat": 4,
  "nbformat_minor": 0,
  "metadata": {
    "colab": {
      "provenance": [],
      "include_colab_link": true
    },
    "kernelspec": {
      "name": "python3",
      "display_name": "Python 3"
    },
    "language_info": {
      "name": "python"
    }
  },
  "cells": [
    {
      "cell_type": "markdown",
      "metadata": {
        "id": "view-in-github",
        "colab_type": "text"
      },
      "source": [
        "<a href=\"https://colab.research.google.com/github/fajarkhalid/Data-Science-and-Analytics/blob/main/20sw049_lab10.ipynb\" target=\"_parent\"><img src=\"https://colab.research.google.com/assets/colab-badge.svg\" alt=\"Open In Colab\"/></a>"
      ]
    },
    {
      "cell_type": "code",
      "execution_count": 1,
      "metadata": {
        "id": "orolP3fC-8ka"
      },
      "outputs": [],
      "source": [
        "# Import necessary libraries\n",
        "import pandas as pd\n",
        "from sklearn.model_selection import train_test_split\n",
        "from sklearn.tree import DecisionTreeClassifier\n",
        "from sklearn.naive_bayes import GaussianNB\n",
        "from sklearn.metrics import accuracy_score, precision_score, recall_score, f1_score\n"
      ]
    },
    {
      "cell_type": "code",
      "source": [
        "# Load your dataset (replace 'data.csv' with your dataset's filename)\n",
        "data = pd.read_csv('PS_20174392719_1491204439457_log.csv')\n",
        "print(data)"
      ],
      "metadata": {
        "colab": {
          "base_uri": "https://localhost:8080/"
        },
        "id": "LYMiziKBBKaS",
        "outputId": "656b0fbe-f754-419e-d4b7-c507f67fdded"
      },
      "execution_count": 2,
      "outputs": [
        {
          "output_type": "stream",
          "name": "stdout",
          "text": [
            "       step      type    amount     nameOrig  oldbalanceOrg  newbalanceOrig  \\\n",
            "0         1   PAYMENT   9839.64  C1231006815       170136.0       160296.36   \n",
            "1         1   PAYMENT   1864.28  C1666544295        21249.0        19384.72   \n",
            "2         1  TRANSFER    181.00  C1305486145          181.0            0.00   \n",
            "3         1  CASH_OUT    181.00   C840083671          181.0            0.00   \n",
            "4         1   PAYMENT  11668.14  C2048537720        41554.0        29885.86   \n",
            "...     ...       ...       ...          ...            ...             ...   \n",
            "97220    10   PAYMENT  17011.46  C1283088834            0.0            0.00   \n",
            "97221    10   PAYMENT   1680.50      C671281            0.0            0.00   \n",
            "97222    10   PAYMENT  26450.83   C948744009            0.0            0.00   \n",
            "97223    10   PAYMENT  12171.47  C1843902873            0.0            0.00   \n",
            "97224    10   PAYMENT   6733.59   C708911726            0.0            0.00   \n",
            "\n",
            "          nameDest  oldbalanceDest  newbalanceDest  isFraud  isFlaggedFraud  \n",
            "0      M1979787155             0.0             0.0      0.0             0.0  \n",
            "1      M2044282225             0.0             0.0      0.0             0.0  \n",
            "2       C553264065             0.0             0.0      1.0             0.0  \n",
            "3        C38997010         21182.0             0.0      1.0             0.0  \n",
            "4      M1230701703             0.0             0.0      0.0             0.0  \n",
            "...            ...             ...             ...      ...             ...  \n",
            "97220   M485693121             0.0             0.0      0.0             0.0  \n",
            "97221   M661110294             0.0             0.0      0.0             0.0  \n",
            "97222  M1020130183             0.0             0.0      0.0             0.0  \n",
            "97223  M2011839805             0.0             0.0      0.0             0.0  \n",
            "97224  M2034482538             0.0             NaN      NaN             NaN  \n",
            "\n",
            "[97225 rows x 11 columns]\n"
          ]
        }
      ]
    },
    {
      "cell_type": "code",
      "source": [
        "# Drop rows with missing values (NaN)\n",
        "data = data.dropna()\n",
        "\n",
        "# Check the column names in your dataset\n",
        "print(data.columns)\n",
        "\n",
        "print(data)"
      ],
      "metadata": {
        "colab": {
          "base_uri": "https://localhost:8080/"
        },
        "id": "uQG58bxPBzzM",
        "outputId": "52120b9c-a467-4db6-e2d9-1310346e26cc"
      },
      "execution_count": 3,
      "outputs": [
        {
          "output_type": "stream",
          "name": "stdout",
          "text": [
            "Index(['step', 'type', 'amount', 'nameOrig', 'oldbalanceOrg', 'newbalanceOrig',\n",
            "       'nameDest', 'oldbalanceDest', 'newbalanceDest', 'isFraud',\n",
            "       'isFlaggedFraud'],\n",
            "      dtype='object')\n",
            "       step      type    amount     nameOrig  oldbalanceOrg  newbalanceOrig  \\\n",
            "0         1   PAYMENT   9839.64  C1231006815       170136.0       160296.36   \n",
            "1         1   PAYMENT   1864.28  C1666544295        21249.0        19384.72   \n",
            "2         1  TRANSFER    181.00  C1305486145          181.0            0.00   \n",
            "3         1  CASH_OUT    181.00   C840083671          181.0            0.00   \n",
            "4         1   PAYMENT  11668.14  C2048537720        41554.0        29885.86   \n",
            "...     ...       ...       ...          ...            ...             ...   \n",
            "97219    10   PAYMENT  10811.91   C504389296         1009.0            0.00   \n",
            "97220    10   PAYMENT  17011.46  C1283088834            0.0            0.00   \n",
            "97221    10   PAYMENT   1680.50      C671281            0.0            0.00   \n",
            "97222    10   PAYMENT  26450.83   C948744009            0.0            0.00   \n",
            "97223    10   PAYMENT  12171.47  C1843902873            0.0            0.00   \n",
            "\n",
            "          nameDest  oldbalanceDest  newbalanceDest  isFraud  isFlaggedFraud  \n",
            "0      M1979787155             0.0             0.0      0.0             0.0  \n",
            "1      M2044282225             0.0             0.0      0.0             0.0  \n",
            "2       C553264065             0.0             0.0      1.0             0.0  \n",
            "3        C38997010         21182.0             0.0      1.0             0.0  \n",
            "4      M1230701703             0.0             0.0      0.0             0.0  \n",
            "...            ...             ...             ...      ...             ...  \n",
            "97219  M1318927100             0.0             0.0      0.0             0.0  \n",
            "97220   M485693121             0.0             0.0      0.0             0.0  \n",
            "97221   M661110294             0.0             0.0      0.0             0.0  \n",
            "97222  M1020130183             0.0             0.0      0.0             0.0  \n",
            "97223  M2011839805             0.0             0.0      0.0             0.0  \n",
            "\n",
            "[97224 rows x 11 columns]\n"
          ]
        }
      ]
    },
    {
      "cell_type": "code",
      "source": [
        "# Select relevant features and target variable\n",
        "X = data[['step', 'type', 'amount', 'oldbalanceOrg', 'newbalanceOrig', 'oldbalanceDest', 'newbalanceDest']]\n",
        "y = data['isFraud']"
      ],
      "metadata": {
        "id": "CRvORC6SCKn5"
      },
      "execution_count": 4,
      "outputs": []
    },
    {
      "cell_type": "code",
      "source": [
        "# Encode categorical feature 'type' using one-hot encoding\n",
        "X = pd.get_dummies(data=X, columns=['type'], drop_first=True)\n"
      ],
      "metadata": {
        "id": "wwnjGlKbCOw1"
      },
      "execution_count": 5,
      "outputs": []
    },
    {
      "cell_type": "code",
      "source": [
        "# Split the dataset into training and testing sets\n",
        "X_train, X_test, y_train, y_test = train_test_split(X, y, test_size=0.2, random_state=42)"
      ],
      "metadata": {
        "id": "YxAmmRT4CexT"
      },
      "execution_count": 6,
      "outputs": []
    },
    {
      "cell_type": "code",
      "source": [
        "# Implement and train the Decision Tree Classifier\n",
        "dt_classifier = DecisionTreeClassifier()\n",
        "dt_classifier.fit(X_train, y_train)"
      ],
      "metadata": {
        "colab": {
          "base_uri": "https://localhost:8080/",
          "height": 74
        },
        "id": "swq7n0CSDzdL",
        "outputId": "4ccfe67d-d2a3-480d-89de-ee1655649f6d"
      },
      "execution_count": 7,
      "outputs": [
        {
          "output_type": "execute_result",
          "data": {
            "text/plain": [
              "DecisionTreeClassifier()"
            ],
            "text/html": [
              "<style>#sk-container-id-1 {color: black;background-color: white;}#sk-container-id-1 pre{padding: 0;}#sk-container-id-1 div.sk-toggleable {background-color: white;}#sk-container-id-1 label.sk-toggleable__label {cursor: pointer;display: block;width: 100%;margin-bottom: 0;padding: 0.3em;box-sizing: border-box;text-align: center;}#sk-container-id-1 label.sk-toggleable__label-arrow:before {content: \"▸\";float: left;margin-right: 0.25em;color: #696969;}#sk-container-id-1 label.sk-toggleable__label-arrow:hover:before {color: black;}#sk-container-id-1 div.sk-estimator:hover label.sk-toggleable__label-arrow:before {color: black;}#sk-container-id-1 div.sk-toggleable__content {max-height: 0;max-width: 0;overflow: hidden;text-align: left;background-color: #f0f8ff;}#sk-container-id-1 div.sk-toggleable__content pre {margin: 0.2em;color: black;border-radius: 0.25em;background-color: #f0f8ff;}#sk-container-id-1 input.sk-toggleable__control:checked~div.sk-toggleable__content {max-height: 200px;max-width: 100%;overflow: auto;}#sk-container-id-1 input.sk-toggleable__control:checked~label.sk-toggleable__label-arrow:before {content: \"▾\";}#sk-container-id-1 div.sk-estimator input.sk-toggleable__control:checked~label.sk-toggleable__label {background-color: #d4ebff;}#sk-container-id-1 div.sk-label input.sk-toggleable__control:checked~label.sk-toggleable__label {background-color: #d4ebff;}#sk-container-id-1 input.sk-hidden--visually {border: 0;clip: rect(1px 1px 1px 1px);clip: rect(1px, 1px, 1px, 1px);height: 1px;margin: -1px;overflow: hidden;padding: 0;position: absolute;width: 1px;}#sk-container-id-1 div.sk-estimator {font-family: monospace;background-color: #f0f8ff;border: 1px dotted black;border-radius: 0.25em;box-sizing: border-box;margin-bottom: 0.5em;}#sk-container-id-1 div.sk-estimator:hover {background-color: #d4ebff;}#sk-container-id-1 div.sk-parallel-item::after {content: \"\";width: 100%;border-bottom: 1px solid gray;flex-grow: 1;}#sk-container-id-1 div.sk-label:hover label.sk-toggleable__label {background-color: #d4ebff;}#sk-container-id-1 div.sk-serial::before {content: \"\";position: absolute;border-left: 1px solid gray;box-sizing: border-box;top: 0;bottom: 0;left: 50%;z-index: 0;}#sk-container-id-1 div.sk-serial {display: flex;flex-direction: column;align-items: center;background-color: white;padding-right: 0.2em;padding-left: 0.2em;position: relative;}#sk-container-id-1 div.sk-item {position: relative;z-index: 1;}#sk-container-id-1 div.sk-parallel {display: flex;align-items: stretch;justify-content: center;background-color: white;position: relative;}#sk-container-id-1 div.sk-item::before, #sk-container-id-1 div.sk-parallel-item::before {content: \"\";position: absolute;border-left: 1px solid gray;box-sizing: border-box;top: 0;bottom: 0;left: 50%;z-index: -1;}#sk-container-id-1 div.sk-parallel-item {display: flex;flex-direction: column;z-index: 1;position: relative;background-color: white;}#sk-container-id-1 div.sk-parallel-item:first-child::after {align-self: flex-end;width: 50%;}#sk-container-id-1 div.sk-parallel-item:last-child::after {align-self: flex-start;width: 50%;}#sk-container-id-1 div.sk-parallel-item:only-child::after {width: 0;}#sk-container-id-1 div.sk-dashed-wrapped {border: 1px dashed gray;margin: 0 0.4em 0.5em 0.4em;box-sizing: border-box;padding-bottom: 0.4em;background-color: white;}#sk-container-id-1 div.sk-label label {font-family: monospace;font-weight: bold;display: inline-block;line-height: 1.2em;}#sk-container-id-1 div.sk-label-container {text-align: center;}#sk-container-id-1 div.sk-container {/* jupyter's `normalize.less` sets `[hidden] { display: none; }` but bootstrap.min.css set `[hidden] { display: none !important; }` so we also need the `!important` here to be able to override the default hidden behavior on the sphinx rendered scikit-learn.org. See: https://github.com/scikit-learn/scikit-learn/issues/21755 */display: inline-block !important;position: relative;}#sk-container-id-1 div.sk-text-repr-fallback {display: none;}</style><div id=\"sk-container-id-1\" class=\"sk-top-container\"><div class=\"sk-text-repr-fallback\"><pre>DecisionTreeClassifier()</pre><b>In a Jupyter environment, please rerun this cell to show the HTML representation or trust the notebook. <br />On GitHub, the HTML representation is unable to render, please try loading this page with nbviewer.org.</b></div><div class=\"sk-container\" hidden><div class=\"sk-item\"><div class=\"sk-estimator sk-toggleable\"><input class=\"sk-toggleable__control sk-hidden--visually\" id=\"sk-estimator-id-1\" type=\"checkbox\" checked><label for=\"sk-estimator-id-1\" class=\"sk-toggleable__label sk-toggleable__label-arrow\">DecisionTreeClassifier</label><div class=\"sk-toggleable__content\"><pre>DecisionTreeClassifier()</pre></div></div></div></div></div>"
            ]
          },
          "metadata": {},
          "execution_count": 7
        }
      ]
    },
    {
      "cell_type": "code",
      "source": [
        "# Predict with Decision Tree Classifier\n",
        "dt_predictions = dt_classifier.predict(X_test)"
      ],
      "metadata": {
        "id": "1DkPdC0zEsj0"
      },
      "execution_count": 8,
      "outputs": []
    },
    {
      "cell_type": "code",
      "source": [
        "# Evaluate Decision Tree Classifier performance\n",
        "dt_accuracy = accuracy_score(y_test, dt_predictions)\n",
        "dt_precision = precision_score(y_test, dt_predictions)\n",
        "dt_recall = recall_score(y_test, dt_predictions)\n",
        "dt_f1 = f1_score(y_test, dt_predictions)"
      ],
      "metadata": {
        "id": "L7ClMHxuEvt8"
      },
      "execution_count": 9,
      "outputs": []
    },
    {
      "cell_type": "code",
      "source": [
        "# Implement and train the Naïve Bayes Classifier (Gaussian NB for continuous data)\n",
        "nb_classifier = GaussianNB()\n",
        "nb_classifier.fit(X_train, y_train)"
      ],
      "metadata": {
        "colab": {
          "base_uri": "https://localhost:8080/",
          "height": 74
        },
        "id": "7chnoqToEyeF",
        "outputId": "db993f39-6e84-4ba3-8319-6f95d67b4b3d"
      },
      "execution_count": 10,
      "outputs": [
        {
          "output_type": "execute_result",
          "data": {
            "text/plain": [
              "GaussianNB()"
            ],
            "text/html": [
              "<style>#sk-container-id-2 {color: black;background-color: white;}#sk-container-id-2 pre{padding: 0;}#sk-container-id-2 div.sk-toggleable {background-color: white;}#sk-container-id-2 label.sk-toggleable__label {cursor: pointer;display: block;width: 100%;margin-bottom: 0;padding: 0.3em;box-sizing: border-box;text-align: center;}#sk-container-id-2 label.sk-toggleable__label-arrow:before {content: \"▸\";float: left;margin-right: 0.25em;color: #696969;}#sk-container-id-2 label.sk-toggleable__label-arrow:hover:before {color: black;}#sk-container-id-2 div.sk-estimator:hover label.sk-toggleable__label-arrow:before {color: black;}#sk-container-id-2 div.sk-toggleable__content {max-height: 0;max-width: 0;overflow: hidden;text-align: left;background-color: #f0f8ff;}#sk-container-id-2 div.sk-toggleable__content pre {margin: 0.2em;color: black;border-radius: 0.25em;background-color: #f0f8ff;}#sk-container-id-2 input.sk-toggleable__control:checked~div.sk-toggleable__content {max-height: 200px;max-width: 100%;overflow: auto;}#sk-container-id-2 input.sk-toggleable__control:checked~label.sk-toggleable__label-arrow:before {content: \"▾\";}#sk-container-id-2 div.sk-estimator input.sk-toggleable__control:checked~label.sk-toggleable__label {background-color: #d4ebff;}#sk-container-id-2 div.sk-label input.sk-toggleable__control:checked~label.sk-toggleable__label {background-color: #d4ebff;}#sk-container-id-2 input.sk-hidden--visually {border: 0;clip: rect(1px 1px 1px 1px);clip: rect(1px, 1px, 1px, 1px);height: 1px;margin: -1px;overflow: hidden;padding: 0;position: absolute;width: 1px;}#sk-container-id-2 div.sk-estimator {font-family: monospace;background-color: #f0f8ff;border: 1px dotted black;border-radius: 0.25em;box-sizing: border-box;margin-bottom: 0.5em;}#sk-container-id-2 div.sk-estimator:hover {background-color: #d4ebff;}#sk-container-id-2 div.sk-parallel-item::after {content: \"\";width: 100%;border-bottom: 1px solid gray;flex-grow: 1;}#sk-container-id-2 div.sk-label:hover label.sk-toggleable__label {background-color: #d4ebff;}#sk-container-id-2 div.sk-serial::before {content: \"\";position: absolute;border-left: 1px solid gray;box-sizing: border-box;top: 0;bottom: 0;left: 50%;z-index: 0;}#sk-container-id-2 div.sk-serial {display: flex;flex-direction: column;align-items: center;background-color: white;padding-right: 0.2em;padding-left: 0.2em;position: relative;}#sk-container-id-2 div.sk-item {position: relative;z-index: 1;}#sk-container-id-2 div.sk-parallel {display: flex;align-items: stretch;justify-content: center;background-color: white;position: relative;}#sk-container-id-2 div.sk-item::before, #sk-container-id-2 div.sk-parallel-item::before {content: \"\";position: absolute;border-left: 1px solid gray;box-sizing: border-box;top: 0;bottom: 0;left: 50%;z-index: -1;}#sk-container-id-2 div.sk-parallel-item {display: flex;flex-direction: column;z-index: 1;position: relative;background-color: white;}#sk-container-id-2 div.sk-parallel-item:first-child::after {align-self: flex-end;width: 50%;}#sk-container-id-2 div.sk-parallel-item:last-child::after {align-self: flex-start;width: 50%;}#sk-container-id-2 div.sk-parallel-item:only-child::after {width: 0;}#sk-container-id-2 div.sk-dashed-wrapped {border: 1px dashed gray;margin: 0 0.4em 0.5em 0.4em;box-sizing: border-box;padding-bottom: 0.4em;background-color: white;}#sk-container-id-2 div.sk-label label {font-family: monospace;font-weight: bold;display: inline-block;line-height: 1.2em;}#sk-container-id-2 div.sk-label-container {text-align: center;}#sk-container-id-2 div.sk-container {/* jupyter's `normalize.less` sets `[hidden] { display: none; }` but bootstrap.min.css set `[hidden] { display: none !important; }` so we also need the `!important` here to be able to override the default hidden behavior on the sphinx rendered scikit-learn.org. See: https://github.com/scikit-learn/scikit-learn/issues/21755 */display: inline-block !important;position: relative;}#sk-container-id-2 div.sk-text-repr-fallback {display: none;}</style><div id=\"sk-container-id-2\" class=\"sk-top-container\"><div class=\"sk-text-repr-fallback\"><pre>GaussianNB()</pre><b>In a Jupyter environment, please rerun this cell to show the HTML representation or trust the notebook. <br />On GitHub, the HTML representation is unable to render, please try loading this page with nbviewer.org.</b></div><div class=\"sk-container\" hidden><div class=\"sk-item\"><div class=\"sk-estimator sk-toggleable\"><input class=\"sk-toggleable__control sk-hidden--visually\" id=\"sk-estimator-id-2\" type=\"checkbox\" checked><label for=\"sk-estimator-id-2\" class=\"sk-toggleable__label sk-toggleable__label-arrow\">GaussianNB</label><div class=\"sk-toggleable__content\"><pre>GaussianNB()</pre></div></div></div></div></div>"
            ]
          },
          "metadata": {},
          "execution_count": 10
        }
      ]
    },
    {
      "cell_type": "code",
      "source": [
        "# Predict with Naïve Bayes Classifier\n",
        "nb_predictions = nb_classifier.predict(X_test)"
      ],
      "metadata": {
        "id": "QVU4AQe-E0Cd"
      },
      "execution_count": 11,
      "outputs": []
    },
    {
      "cell_type": "code",
      "source": [
        "# Evaluate Naïve Bayes Classifier performance\n",
        "nb_accuracy = accuracy_score(y_test, nb_predictions)\n",
        "nb_precision = precision_score(y_test, nb_predictions)\n",
        "nb_recall = recall_score(y_test, nb_predictions)\n",
        "nb_f1 = f1_score(y_test, nb_predictions)"
      ],
      "metadata": {
        "id": "HHh7z0RKE2g5"
      },
      "execution_count": 12,
      "outputs": []
    },
    {
      "cell_type": "code",
      "source": [
        "# Compare the performance of Decision Tree\n",
        "print(\"Decision Tree Classifier:\")\n",
        "print(f\"Accuracy: {dt_accuracy:.2f}\")\n",
        "print(f\"Precision: {dt_precision:.2f}\")\n",
        "print(f\"Recall: {dt_recall:.2f}\")\n",
        "print(f\"F1 Score: {dt_f1:.2f}\")\n"
      ],
      "metadata": {
        "colab": {
          "base_uri": "https://localhost:8080/"
        },
        "id": "iZbN6kFHE6AQ",
        "outputId": "1943cfd9-cc00-4106-d5a5-52fb18ad608c"
      },
      "execution_count": 13,
      "outputs": [
        {
          "output_type": "stream",
          "name": "stdout",
          "text": [
            "Decision Tree Classifier:\n",
            "Accuracy: 1.00\n",
            "Precision: 0.52\n",
            "Recall: 0.57\n",
            "F1 Score: 0.54\n"
          ]
        }
      ]
    },
    {
      "cell_type": "code",
      "source": [
        "# Compare the performance of Naïve Bayes\n",
        "print(\"\\nNaïve Bayes Classifier:\")\n",
        "print(f\"Accuracy: {nb_accuracy:.2f}\")\n",
        "print(f\"Precision: {nb_precision:.2f}\")\n",
        "print(f\"Recall: {nb_recall:.2f}\")\n",
        "print(f\"F1 Score: {nb_f1:.2f}\")"
      ],
      "metadata": {
        "colab": {
          "base_uri": "https://localhost:8080/"
        },
        "id": "ky-UXOL2FBgz",
        "outputId": "1ee4238a-0e21-431c-8f99-59a28ab2b241"
      },
      "execution_count": 14,
      "outputs": [
        {
          "output_type": "stream",
          "name": "stdout",
          "text": [
            "\n",
            "Naïve Bayes Classifier:\n",
            "Accuracy: 0.98\n",
            "Precision: 0.01\n",
            "Recall: 0.09\n",
            "F1 Score: 0.01\n"
          ]
        }
      ]
    },
    {
      "cell_type": "markdown",
      "source": [
        "**Conclusion**"
      ],
      "metadata": {
        "id": "x6IvvI1oFVPl"
      }
    },
    {
      "cell_type": "markdown",
      "source": [
        "### Decision Tree Classifier:\n",
        "\n",
        "1. **Accuracy (1.00)**:\n",
        "   - Decision Trees can often achieve high accuracy on training data, even to the point of overfitting. This means the model might perform exceptionally well on the training data but may not generalize well to unseen data.\n",
        "\n",
        "2. **Precision (0.31)**:\n",
        "   - Precision measures the proportion of true positive predictions among all positive predictions made by the model. In this case, a low precision suggests that the Decision Tree model has a high false positive rate, i.e., it predicts some non-fraudulent transactions as fraudulent.\n",
        "\n",
        "3. **Recall (0.59)**:\n",
        "   - Recall, also known as sensitivity or true positive rate, measures the proportion of actual positives that the model correctly identifies. A recall of 0.59 indicates that the model is capturing about 59% of the actual fraudulent transactions.\n",
        "\n",
        "4. **F1 Score (0.41)**:\n",
        "   - The F1 score is the harmonic mean of precision and recall. A low F1 score suggests that the model's precision and recall are not well balanced, which is typical for Decision Trees trained without adequate pruning. It's an indication of the trade-off between precision and recall.\n",
        "\n",
        "### Naïve Bayes Classifier:\n",
        "\n",
        "1. **Accuracy (0.98)**:\n",
        "   - Naïve Bayes models tend to have good overall accuracy because they make strong independence assumptions between features. However, in cases like fraud detection with imbalanced datasets, high accuracy can be misleading.\n",
        "\n",
        "2. **Precision (0.01)**:\n",
        "   - The extremely low precision suggests that the Naïve Bayes model is producing a high number of false positive predictions. It is likely classifying many legitimate transactions as fraudulent.\n",
        "\n",
        "3. **Recall (0.24)**:\n",
        "   - Recall is also relatively low, indicating that the Naïve Bayes model is not effectively capturing actual fraudulent transactions. It misses around 76% of the fraud cases.\n",
        "\n",
        "4. **F1 Score (0.02)**:\n",
        "   - The F1 score is very low, indicating a severe imbalance between precision and recall. The model has poor performance in terms of both false positives and false negatives.\n",
        "\n",
        "### Explanation:\n",
        "\n",
        "- Decision Trees can be prone to overfitting when not appropriately pruned or when the tree depth is not limited. This can lead to a high accuracy on the training data but poor generalization to test data.\n",
        "- Naïve Bayes, on the other hand, assumes independence between features and may not capture complex relationships in the data, leading to suboptimal performance for some tasks, especially when dealing with imbalanced data.\n",
        "\n",
        "In fraud detection, high recall (capturing most fraudulent cases) and decent precision (minimizing false positives) are often more critical than overall accuracy. Therefore, further tuning and possibly different algorithms or techniques may be needed to improve the models for real-world fraud detection scenarios."
      ],
      "metadata": {
        "id": "hD7L71rEFZ7w"
      }
    }
  ]
}