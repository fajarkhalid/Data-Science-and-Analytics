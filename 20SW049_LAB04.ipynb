{
  "nbformat": 4,
  "nbformat_minor": 0,
  "metadata": {
    "colab": {
      "provenance": [],
      "authorship_tag": "ABX9TyOHzBe9C8OvwdN2ldIoFM01",
      "include_colab_link": true
    },
    "kernelspec": {
      "name": "python3",
      "display_name": "Python 3"
    },
    "language_info": {
      "name": "python"
    }
  },
  "cells": [
    {
      "cell_type": "markdown",
      "metadata": {
        "id": "view-in-github",
        "colab_type": "text"
      },
      "source": [
        "<a href=\"https://colab.research.google.com/github/fajarkhalid/Data-Science-and-Analytics/blob/main/20SW049_LAB04.ipynb\" target=\"_parent\"><img src=\"https://colab.research.google.com/assets/colab-badge.svg\" alt=\"Open In Colab\"/></a>"
      ]
    },
    {
      "cell_type": "code",
      "execution_count": 1,
      "metadata": {
        "colab": {
          "base_uri": "https://localhost:8080/"
        },
        "id": "C5Dx57TU4OHp",
        "outputId": "a06d3414-1e37-4109-e898-a8122c0670b9"
      },
      "outputs": [
        {
          "output_type": "stream",
          "name": "stdout",
          "text": [
            "[[ 2  4  6  8]\n",
            " [10 12 14 16]\n",
            " [18 20 22 24]\n",
            " [26 28 30 32]]\n"
          ]
        }
      ],
      "source": [
        "#Task1\n",
        "\n",
        "import numpy as np\n",
        "X = np.arange(2, 34, 2).reshape(4, 4)\n",
        "print(X)"
      ]
    },
    {
      "cell_type": "code",
      "source": [
        "#Task2\n",
        "\n",
        "import numpy as np\n",
        "\n",
        "X = np.arange(1, 26).reshape(5, 5)\n",
        "Y = X[X % 2 != 0]\n",
        "\n",
        "print(X)\n",
        "print(Y)"
      ],
      "metadata": {
        "colab": {
          "base_uri": "https://localhost:8080/"
        },
        "id": "ORaySC_U4_Nh",
        "outputId": "91061c69-7de9-4c7d-aaba-f91c838e7418"
      },
      "execution_count": 2,
      "outputs": [
        {
          "output_type": "stream",
          "name": "stdout",
          "text": [
            "[[ 1  2  3  4  5]\n",
            " [ 6  7  8  9 10]\n",
            " [11 12 13 14 15]\n",
            " [16 17 18 19 20]\n",
            " [21 22 23 24 25]]\n",
            "[ 1  3  5  7  9 11 13 15 17 19 21 23 25]\n"
          ]
        }
      ]
    },
    {
      "cell_type": "code",
      "source": [
        "#Task3\n",
        "\n",
        "import numpy as np\n",
        "X = np.arange(1, 5).reshape(4, 1) * np.ones((1, 4))\n",
        "\n",
        "print(X)\n"
      ],
      "metadata": {
        "colab": {
          "base_uri": "https://localhost:8080/"
        },
        "id": "j8tv79zu5Egc",
        "outputId": "67967894-6bb0-4eaa-bdca-af90eaefa72a"
      },
      "execution_count": 3,
      "outputs": [
        {
          "output_type": "stream",
          "name": "stdout",
          "text": [
            "[[1. 1. 1. 1.]\n",
            " [2. 2. 2. 2.]\n",
            " [3. 3. 3. 3.]\n",
            " [4. 4. 4. 4.]]\n"
          ]
        }
      ]
    },
    {
      "cell_type": "code",
      "source": [
        "#Task4\n",
        "\n",
        "from google.colab import drive\n",
        "drive.mount('/NumPy.ipnyb')\n",
        "\n",
        "import numpy as np\n",
        "\n",
        "# Create a 1000x20 ndarray with random integers in the range [0, 5001)\n",
        "X = np.random.randint(0, 5001, size=(1000, 20))\n",
        "# Print the shape of X\n",
        "print(X.shape)\n",
        "\n",
        "# Calculate the average of the values in each column of X\n",
        "ave_cols = np.mean(X, axis=0)\n",
        "\n",
        "# Calculate the standard deviation of the values in each column of X\n",
        "std_cols = np.std(X, axis=0)\n",
        "\n",
        "\n",
        "print(\"Shape of ave_cols:\", ave_cols.shape)\n",
        "print(\"Shape of std_cols:\", std_cols.shape)\n",
        "\n",
        "# Mean normalize X\n",
        "X_norm = (X - ave_cols) / std_cols\n",
        "\n",
        "print(\"Mean normalized X:\")\n",
        "print(X_norm)\n",
        "\n",
        "# Print the average of all the values of X_norm\n",
        "ave_all_values = np.mean(X_norm)\n",
        "print(\"Average of all values in X_norm:\", ave_all_values)\n",
        "\n",
        "# Print the average of the minimum value in each column of X_norm\n",
        "ave_min_values = np.mean(np.min(X_norm, axis=0))\n",
        "print(\"Average of minimum values in each column of X_norm:\", ave_min_values)\n",
        "\n",
        "# Print the average of the maximum value in each column of X_norm\n",
        "ave_max_values = np.mean(np.max(X_norm, axis=0))\n",
        "print(\"Average of maximum values in each column of X_norm:\", ave_max_values)\n",
        "\n",
        "# We create a random permutation of integers 0 to 4\n",
        "np.random.permutation(5)\n",
        "\n",
        "# Create a random permutation of row indices of X_norm\n",
        "row_indices = np.random.permutation(X_norm.shape[0])\n",
        "\n",
        "print(\"Random permutation of row indices:\", row_indices)\n",
        "\n",
        "\n",
        "# Define the ratios for training, cross-validation, and test sets\n",
        "train_ratio = 0.6\n",
        "cross_val_ratio = 0.2\n",
        "test_ratio = 0.2\n",
        "\n",
        "# Calculate the sizes of each set based on the ratios\n",
        "num_rows = X_norm.shape[0]\n",
        "num_train = int(train_ratio * num_rows)\n",
        "num_cross_val = int(cross_val_ratio * num_rows)\n",
        "num_test = int(test_ratio * num_rows)\n",
        "\n",
        "# Use row_indices to split the data into sets\n",
        "X_train = X_norm[row_indices[:num_train]]\n",
        "X_crossVal = X_norm[row_indices[num_train:num_train + num_cross_val]]\n",
        "X_test = X_norm[row_indices[num_train + num_cross_val:]]\n",
        "\n",
        "print(\"X_train shape:\", X_train.shape)\n",
        "print(\"X_crossVal shape:\", X_crossVal.shape)\n",
        "print(\"X_test shape:\", X_test.shape)\n"
      ],
      "metadata": {
        "colab": {
          "base_uri": "https://localhost:8080/"
        },
        "id": "vvcXtiKc5FiA",
        "outputId": "b9ddf2b6-a2ca-4b39-82ee-52efa6804549"
      },
      "execution_count": 5,
      "outputs": [
        {
          "output_type": "stream",
          "name": "stdout",
          "text": [
            "Mounted at /NumPy.ipnyb\n",
            "(1000, 20)\n",
            "Shape of ave_cols: (20,)\n",
            "Shape of std_cols: (20,)\n",
            "Mean normalized X:\n",
            "[[-0.25251504  0.58745965 -0.49544172 ... -0.63692113  0.26970259\n",
            "  -0.40664042]\n",
            " [-1.49318728 -0.78146082  0.87658409 ...  0.43946033  0.63639543\n",
            "  -1.6038113 ]\n",
            " [ 1.60883174  0.31367555  0.90508108 ... -0.03249154 -0.03610805\n",
            "   1.43994897]\n",
            " ...\n",
            " [-0.18415285 -1.48617549  1.33670622 ...  1.56069103  1.20882815\n",
            "  -1.29051355]\n",
            " [ 0.35597614  0.54206177 -0.10899473 ...  0.97627109  1.32849319\n",
            "   0.26975075]\n",
            " [-0.44812567 -1.19004167 -0.43636259 ... -1.69881285 -1.71351787\n",
            "   1.48905303]]\n",
            "Average of all values in X_norm: 3.552713678800501e-18\n",
            "Average of minimum values in each column of X_norm: -1.7366392652239295\n",
            "Average of maximum values in each column of X_norm: 1.7118702232023928\n",
            "Random permutation of row indices: [998 921 785 444 769 394 485 345 740 427 833 191 536 670 966  95 669  82\n",
            " 116 142 651  44 896  50 500 327 503 971 731 851 746 417 859 125 402  10\n",
            " 520 944 897 928 141 497 817 872 242 725 780 984  13 943 214 280 609  51\n",
            " 175  35 167 392 489 144 524 601 875 529 853 996 789 512 989 696 635  39\n",
            " 146 803 844 808 631  94  28 990 766 912 437 719 932 160 768 627 342 366\n",
            " 475 229 686 698 527 992 754 322 683 993 103 397 801 967 834 195 832  61\n",
            " 787 429 588  48 684 254 436 969 757 381  25 850 612 935  55 986 256 714\n",
            " 349 353 316 764 526 892 857 742 695 395  27 428  60 360 861 877 587  66\n",
            " 581 411 852 215 467 462  16 244 595 855  84 551 931 644  93 300 486 438\n",
            " 452 578 369 592  23 637 758 344 457  42 796 662 995 136 440 643 339 257\n",
            " 197 474 275 216 508 431 782 234 613 278 177  81 868 277 970 938 332 107\n",
            " 702 379 150 811 189 776 625 478 812 963 537 419 422 255  71 586 810 168\n",
            " 236 927 410  92 784 697 542 576 331 231 945  20 492 346 399 549 617 433\n",
            " 139 700 676 926 640 289 752  34 870 716 560 148 977 655 521 238 350 557\n",
            " 898 102 843 213 688 703 667 728 172 271 375 917 145 600  33 188  88 122\n",
            " 359 128 701 816 630  63 679 813 356 491 446 910   2 390   4 129  32  86\n",
            " 511 174 127 305 472 689 119 514 790 355 976 765 477 383 930 294 245 895\n",
            " 802 781 804 447 498 573 604  59 934 368 793 693 841 690 313 166 171 534\n",
            " 264  19 179 680 999 665 153 786 212 205 519 974 964 482 484 258 487 759\n",
            "  17 593  68 178 973 488 163 114 132 649  67 887 309 545 162 968 193 470\n",
            " 377 156 292 465 286 749 691 730 553 364 619 185 736 547 228 838 131 961\n",
            " 335 548 222 882 946 624 418 387 960 954 493 315 513 820 663 659 151 252\n",
            " 123 626 916 831 864 775 490 326 699 186 361 674 822 106 494 421 319 762\n",
            " 121 878 396 591 282 138 826 692 918 884 908 829 629 647 920 135  70 267\n",
            " 190 483 110 220 550 661 590 273 744 501 707 774 809 243 858 347 261  69\n",
            " 225  56 881  47 773 594 911 574 849 559  14 863 738 367 723 704 337  41\n",
            " 303 476 357 979 603 274 732 710 856 169 233 794  80 904 705 720  75  91\n",
            " 956 799 779 330 120  64 606 516 611 329 642  53 561 268 276 293 443 308\n",
            " 980 599 874 570 636 724  78 336 445 646 652 929 828 541 972 648 230 235\n",
            "  89 533 936 314  54  77 441 628 113 504 219 735 459  40 952 201 515 906\n",
            " 955 951 668   6 905  24 605 620 210 304 654  52 795 806 981 942 847 528\n",
            " 371 393 108 711 194 147 614 298 885 709 827 818 183 283 657 406 451 302\n",
            " 408 845  74 708 495 994 666 721 883  26 879 815 767 170 656 297 615 382\n",
            " 678 632 739 554 798 639 814  21 840 134 358 374 176 641 301 405 370 388\n",
            " 126 607 206 596 751 953 130 218 579 223   9 291 414 450 862 517 265 949\n",
            " 778 259 959 602 589 420 204 522 111 867 198 988 149   8 608 118 726 975\n",
            " 535 221 538 562 770 585 982  37 539 407 117 907 913 248 423 958 634 505\n",
            " 563 622 413 202 334 380 577  22 324 373 306 743 712 100 991 555  43 821\n",
            " 922 159 792 819 425 761 333  79 412 846 173 182 616 741 532 143 582 199\n",
            " 241 468 525  83 187 633 112 623   7 250 842 987 805  31 800 325 299 295\n",
            " 263 449 453 734 598 115  30 860 266 933 948 947  11  38 209 876 556 865\n",
            " 543 389 671 363 404 376 507 463 571 435 270 340 638 424 448 137  46 434\n",
            "  98 109 682 165   0 354 415 458  58 985 645 281 957 658 152 400 997 454\n",
            " 694 409 227 564 105 401 455 837 154  76 456 343  36  45 502 807 510 328\n",
            " 713 924 771  57 871 272 509 886 915 348   3 772 687 351 157 290 763 580\n",
            " 830 466 464 722  12 621 939 756  73 341 755 318 891 866 558 161 439  87\n",
            " 575  99 192 566 217 200 365 825 610 310 900 664 479 480 496 836 312 279\n",
            " 239 733 311 597 983 307 251 208 352 321  97 546 747 923 681 362 180 839\n",
            " 783 919 727 902 247 203 226 540 386 481 530 854 673 824 224 184 378 140\n",
            " 797  49 909   1  65 133  96 894 260 269 181 104 869 750 317 677 760 672\n",
            " 572 296 430 890 432 901 729 903 158 285 788 523 471 748 323 660 253 262\n",
            " 565 460  90 962 706 675  18 650 753 873 544 978 196 232 941 473 737 889\n",
            " 101  85 246 288  72 320 653 777 155 240 211 718  29 416 568 823 899 569\n",
            " 384 888 124 584   5 717 284 207 880 391 583  15 848 914 715 426 398 937\n",
            " 506 461 287 893 567 237 164 835 518 791 403 950 385 552 531 338 499 925\n",
            " 469 249 965 685 745 372 618 940  62 442]\n",
            "X_train shape: (600, 20)\n",
            "X_crossVal shape: (200, 20)\n",
            "X_test shape: (200, 20)\n"
          ]
        }
      ]
    }
  ]
}